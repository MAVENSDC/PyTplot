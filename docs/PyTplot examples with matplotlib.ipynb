{
 "nbformat": 4,
 "nbformat_minor": 0,
 "metadata": {
  "colab": {
   "name": "PyTplot examples with matplotlib.ipynb",
   "provenance": [],
   "collapsed_sections": []
  },
  "kernelspec": {
   "name": "python3",
   "display_name": "Python 3"
  },
  "language_info": {
   "name": "python"
  }
 },
 "cells": [
  {
   "cell_type": "code",
   "metadata": {
    "id": "bbKO9fJ3UVBJ"
   },
   "source": [
    "!pip install matplotlib --upgrade\n",
    "!pip install https://github.com/MAVENSDC/PyTplot/archive/matplotlib-backend.zip"
   ],
   "execution_count": null,
   "outputs": []
  },
  {
   "cell_type": "code",
   "metadata": {
    "id": "fEHKYVAAUaBj"
   },
   "source": [
    "!pip install pyspedas"
   ],
   "execution_count": null,
   "outputs": []
  },
  {
   "cell_type": "code",
   "metadata": {
    "id": "Mfc5MKISUc9A"
   },
   "source": [
    "import pyspedas\n",
    "from pytplot import tplot"
   ],
   "execution_count": 3,
   "outputs": []
  },
  {
   "cell_type": "markdown",
   "metadata": {
    "id": "8dPdANBQUuBH"
   },
   "source": [
    "Load some test data"
   ]
  },
  {
   "cell_type": "code",
   "metadata": {
    "id": "gQCWfG4GUpMY",
    "colab": {
     "base_uri": "https://localhost:8080/"
    },
    "outputId": "e64cd87d-490d-46a6-f286-1758f7bcc009"
   },
   "source": [
    "fpi_vars = pyspedas.mms.fpi(trange=['2015-10-16/13:06', '2015-10-16/13:07'], \n",
    "                 datatype=['des-moms', 'dis-moms'], \n",
    "                 data_rate='brst', \n",
    "                 get_support_data=True,\n",
    "                 time_clip=True)"
   ],
   "execution_count": 4,
   "outputs": []
  },
  {
   "cell_type": "markdown",
   "metadata": {
    "id": "NOhE5eYZVDRJ"
   },
   "source": [
    "## Create a simple line plot"
   ]
  },
  {
   "cell_type": "code",
   "metadata": {
    "colab": {
     "base_uri": "https://localhost:8080/",
     "height": 608
    },
    "id": "yJUa7XWcU6ch",
    "outputId": "000c9f3f-2432-4722-893f-98fb8c1eaded"
   },
   "source": [
    "tplot('mms1_des_bulkv_gse_brst')"
   ],
   "execution_count": 5,
   "outputs": []
  },
  {
   "cell_type": "markdown",
   "metadata": {
    "id": "ZHsJwy0fVWWE"
   },
   "source": [
    "## Change the figure size\n",
    "\n",
    "You can change the figure size with the 'xsize' and 'ysize' keywords (specified in inches)"
   ]
  },
  {
   "cell_type": "code",
   "metadata": {
    "colab": {
     "base_uri": "https://localhost:8080/",
     "height": 281
    },
    "id": "s8DqCzPgVFvf",
    "outputId": "be994042-e346-4d84-af77-a47ed798a059"
   },
   "source": [
    "tplot('mms1_des_bulkv_gse_brst', xsize=8, ysize=4)"
   ],
   "execution_count": 6,
   "outputs": []
  },
  {
   "cell_type": "markdown",
   "metadata": {
    "id": "5NLBwiJ4VsXl"
   },
   "source": [
    "## Add an additional x-axis\n",
    "\n",
    "You can add an additional x-axis using the 'var_label' keyword"
   ]
  },
  {
   "cell_type": "code",
   "metadata": {
    "colab": {
     "base_uri": "https://localhost:8080/",
     "height": 467
    },
    "id": "OUlQzMwSVfUp",
    "outputId": "edffac2e-13a5-4960-d1b9-4bf9673f9b92"
   },
   "source": [
    "tplot('mms1_dis_bulkv_gse_brst', var_label='mms1_dis_numberdensity_brst', xsize=8, ysize=7)"
   ],
   "execution_count": 7,
   "outputs": []
  },
  {
   "cell_type": "markdown",
   "metadata": {
    "id": "7CKopXWxWD27"
   },
   "source": [
    "## Plot multiple variables at once\n",
    "\n",
    "Create a figure with line plots and spectra"
   ]
  },
  {
   "cell_type": "code",
   "metadata": {
    "colab": {
     "base_uri": "https://localhost:8080/",
     "height": 620
    },
    "id": "1IaBvcF2V4p7",
    "outputId": "1860342a-d060-4a81-b790-a4a1a3df65ef"
   },
   "source": [
    "tplot(['mms1_dis_energyspectr_omni_brst',\n",
    "       'mms1_dis_bulkv_gse_brst',\n",
    "       'mms1_dis_numberdensity_brst',\n",
    "       'mms1_des_energyspectr_omni_brst',\n",
    "       'mms1_des_bulkv_gse_brst',\n",
    "       'mms1_des_numberdensity_brst'])"
   ],
   "execution_count": 8,
   "outputs": []
  },
  {
   "cell_type": "markdown",
   "metadata": {
    "id": "eTi_S5P1XDQg"
   },
   "source": [
    "## Update plot metadata\n",
    "\n",
    "Add the units to the ysubtitle of the DES and DIS energy spectra"
   ]
  },
  {
   "cell_type": "code",
   "metadata": {
    "colab": {
     "base_uri": "https://localhost:8080/",
     "height": 620
    },
    "id": "NIMCfj6pWguD",
    "outputId": "af28d6c5-e7e4-4206-e02d-822cfed856c3"
   },
   "source": [
    "from pytplot import options\n",
    "\n",
    "options('mms1_dis_energyspectr_omni_brst', 'ysubtitle', '[eV]')\n",
    "options('mms1_des_energyspectr_omni_brst', 'ysubtitle', '[eV]')\n",
    "\n",
    "tplot(['mms1_dis_energyspectr_omni_brst',\n",
    "       'mms1_dis_bulkv_gse_brst',\n",
    "       'mms1_dis_numberdensity_brst',\n",
    "       'mms1_des_energyspectr_omni_brst',\n",
    "       'mms1_des_bulkv_gse_brst',\n",
    "       'mms1_des_numberdensity_brst'])"
   ],
   "execution_count": 9,
   "outputs": []
  },
  {
   "cell_type": "markdown",
   "metadata": {
    "id": "pVpFThu2XdoR"
   },
   "source": [
    "Change the DES and DIS densities to a log axis"
   ]
  },
  {
   "cell_type": "code",
   "metadata": {
    "colab": {
     "base_uri": "https://localhost:8080/",
     "height": 620
    },
    "id": "G5CaANJwXKIc",
    "outputId": "2a75c65d-519e-431e-8068-e8a975449342"
   },
   "source": [
    "options('mms1_dis_numberdensity_brst', 'ylog', True)\n",
    "options('mms1_des_numberdensity_brst', 'ylog', True)\n",
    "\n",
    "tplot(['mms1_dis_energyspectr_omni_brst',\n",
    "       'mms1_dis_bulkv_gse_brst',\n",
    "       'mms1_dis_numberdensity_brst',\n",
    "       'mms1_des_energyspectr_omni_brst',\n",
    "       'mms1_des_bulkv_gse_brst',\n",
    "       'mms1_des_numberdensity_brst'])"
   ],
   "execution_count": 10,
   "outputs": []
  },
  {
   "cell_type": "markdown",
   "metadata": {
    "id": "YBBNtllEYUng"
   },
   "source": [
    "## Set figure title\n",
    "\n",
    "'MMS1' is repeated in every ytitle; we can move it to the top of the figure with tplot_options"
   ]
  },
  {
   "cell_type": "code",
   "metadata": {
    "colab": {
     "base_uri": "https://localhost:8080/",
     "height": 624
    },
    "id": "AWXOQU1BXv2B",
    "outputId": "efe7f9f5-ef2b-424e-f161-35648800c8be"
   },
   "source": [
    "from pytplot import tplot_options\n",
    "\n",
    "tplot_options('title', 'MMS-1')\n",
    "\n",
    "options('mms1_dis_energyspectr_omni_brst', 'ytitle', 'DIS Energy')\n",
    "options('mms1_dis_bulkv_gse_brst', 'ytitle', 'DIS velocity')\n",
    "options('mms1_dis_numberdensity_brst', 'ytitle', 'DIS density')\n",
    "options('mms1_des_energyspectr_omni_brst', 'ytitle', 'DES Energy')\n",
    "options('mms1_des_bulkv_gse_brst', 'ytitle', 'DES velocity')\n",
    "options('mms1_des_numberdensity_brst', 'ytitle', 'DES density')\n",
    "\n",
    "tplot(['mms1_dis_energyspectr_omni_brst',\n",
    "       'mms1_dis_bulkv_gse_brst',\n",
    "       'mms1_dis_numberdensity_brst',\n",
    "       'mms1_des_energyspectr_omni_brst',\n",
    "       'mms1_des_bulkv_gse_brst',\n",
    "       'mms1_des_numberdensity_brst'])"
   ],
   "execution_count": 11,
   "outputs": []
  },
  {
   "cell_type": "markdown",
   "metadata": {
    "id": "m_3gaog2Zr05"
   },
   "source": [
    "## Change the range of the y-axis\n",
    "\n",
    "You can change the range of the y-axis with the 'yrange' option"
   ]
  },
  {
   "cell_type": "code",
   "metadata": {
    "colab": {
     "base_uri": "https://localhost:8080/",
     "height": 624
    },
    "id": "XKdCF2ZaYhmn",
    "outputId": "f29cb934-9bad-44ce-bbe9-2b765ccfe0f6"
   },
   "source": [
    "options('mms1_des_bulkv_gse_brst', 'yrange', [-300, 300])\n",
    "\n",
    "tplot('mms1_des_bulkv_gse_brst')"
   ],
   "execution_count": 12,
   "outputs": []
  },
  {
   "cell_type": "markdown",
   "metadata": {
    "id": "vwAZozO1aEPF"
   },
   "source": [
    "## Change the range of the z-axis\n",
    "\n",
    "You can change the range of the color bar using the 'zrange' option"
   ]
  },
  {
   "cell_type": "code",
   "metadata": {
    "colab": {
     "base_uri": "https://localhost:8080/",
     "height": 624
    },
    "id": "IoWtGBQDZ3Fv",
    "outputId": "000cead2-e9e7-44f2-a89b-6ca32c187c4a"
   },
   "source": [
    "options('mms1_dis_energyspectr_omni_brst', 'zrange', [10, 1e8])\n",
    "\n",
    "tplot('mms1_dis_energyspectr_omni_brst')"
   ],
   "execution_count": 13,
   "outputs": []
  },
  {
   "cell_type": "markdown",
   "metadata": {
    "id": "PrNxsdsUaYNg"
   },
   "source": [
    "## Overplot lines on spectra\n",
    "\n",
    "You can plot lines on top of spectra by combining the variables using store_data"
   ]
  },
  {
   "cell_type": "code",
   "metadata": {
    "colab": {
     "base_uri": "https://localhost:8080/",
     "height": 352
    },
    "id": "izEXI5utaQnA",
    "outputId": "34644840-e175-454e-8db5-5dd41b39edc1"
   },
   "source": [
    "from pytplot import store_data\n",
    "\n",
    "store_data('dis_enspec_density', data='mms1_dis_energyspectr_omni_brst mms1_dis_numberdensity_brst')\n",
    "\n",
    "options('dis_enspec_density', 'right_axis', True)\n",
    "tplot_options('xmargin', [0.2, 0.2])\n",
    "\n",
    "tplot('dis_enspec_density', xsize=10, ysize=5)"
   ],
   "execution_count": 14,
   "outputs": []
  },
  {
   "cell_type": "markdown",
   "metadata": {
    "id": "KYOXHxxwa5N-"
   },
   "source": [
    "Changing the y-axis range works just like it would if we weren't overplotting"
   ]
  },
  {
   "cell_type": "code",
   "metadata": {
    "colab": {
     "base_uri": "https://localhost:8080/",
     "height": 352
    },
    "id": "lf_QTdhBaqP1",
    "outputId": "18ab6043-7cdf-4cd4-a35f-faa1610e677d"
   },
   "source": [
    "options('mms1_dis_numberdensity_brst', 'yrange', [1, 100])\n",
    "\n",
    "tplot('dis_enspec_density', xsize=10, ysize=5)"
   ],
   "execution_count": 15,
   "outputs": []
  },
  {
   "cell_type": "markdown",
   "metadata": {
    "id": "Xj3FZh2cdBJA"
   },
   "source": [
    "## Change the color bar\n",
    "\n",
    "You can change the color bar with the 'Colormap' option\n",
    "\n",
    "see: https://matplotlib.org/stable/gallery/color/colormap_reference"
   ]
  },
  {
   "cell_type": "code",
   "metadata": {
    "colab": {
     "base_uri": "https://localhost:8080/",
     "height": 352
    },
    "id": "2BsL_w5LcaYP",
    "outputId": "51593e1a-f175-4f74-8ccd-03d69e4a5297"
   },
   "source": [
    "options('mms1_dis_energyspectr_omni_brst', 'Colormap', 'viridis')\n",
    "\n",
    "tplot('dis_enspec_density', xsize=10, ysize=5)"
   ],
   "execution_count": 16,
   "outputs": []
  },
  {
   "cell_type": "markdown",
   "metadata": {
    "id": "Efm_LCUsf8EH"
   },
   "source": [
    "## Change line options\n",
    "\n",
    "You can change the line color with the 'color' option"
   ]
  },
  {
   "cell_type": "code",
   "metadata": {
    "colab": {
     "base_uri": "https://localhost:8080/",
     "height": 352
    },
    "id": "qn41WXqYdtR3",
    "outputId": "09fa3f0c-a4b9-4361-fba9-fc7df5a64bdf"
   },
   "source": [
    "options('mms1_dis_numberdensity_brst', 'color', 'r')\n",
    "\n",
    "tplot('dis_enspec_density', xsize=10, ysize=5)"
   ],
   "execution_count": 17,
   "outputs": []
  },
  {
   "cell_type": "markdown",
   "metadata": {
    "id": "8elMtNVAV3z6"
   },
   "source": [
    "You can change the line thickness with the 'thick' option"
   ]
  },
  {
   "cell_type": "code",
   "metadata": {
    "colab": {
     "base_uri": "https://localhost:8080/",
     "height": 352
    },
    "id": "cFbCELirV7Va",
    "outputId": "4a75940b-6767-411a-d5c7-14fc4f1859e7"
   },
   "source": [
    "options('mms1_dis_numberdensity_brst', 'thick', 4)\n",
    "tplot('dis_enspec_density', xsize=10, ysize=5)"
   ],
   "execution_count": 18,
   "outputs": []
  },
  {
   "cell_type": "markdown",
   "metadata": {
    "id": "ouaifx00WHjW"
   },
   "source": [
    "You can change the line style with the 'line_style' option"
   ]
  },
  {
   "cell_type": "code",
   "metadata": {
    "colab": {
     "base_uri": "https://localhost:8080/",
     "height": 352
    },
    "id": "an8Rzi-RWMlK",
    "outputId": "5607cc11-0e8d-44b8-cdb4-cae23eee848d"
   },
   "source": [
    "options('mms1_dis_numberdensity_brst', 'line_style', 'dashed')\n",
    "tplot('dis_enspec_density', xsize=10, ysize=5)"
   ],
   "execution_count": 19,
   "outputs": []
  },
  {
   "cell_type": "markdown",
   "metadata": {
    "id": "-Q8mwMwXW205"
   },
   "source": [
    "## Add vertical bars to the figure\n",
    "\n",
    "You can add vertical bars using the 'timebar' option"
   ]
  },
  {
   "cell_type": "code",
   "metadata": {
    "colab": {
     "base_uri": "https://localhost:8080/",
     "height": 624
    },
    "id": "mQuRgyCtW8OS",
    "outputId": "7baf7d61-2799-467a-ff65-c9572c3502b8"
   },
   "source": [
    "from pytplot import timebar\n",
    "\n",
    "timebar('2015-10-16 13:06:20', color='r')\n",
    "timebar('2015-10-16 13:06:40', color='b')\n",
    "\n",
    "tplot('dis_enspec_density')"
   ],
   "execution_count": 20,
   "outputs": []
  },
  {
   "cell_type": "markdown",
   "metadata": {
    "id": "MF6Fi3UCYZN-"
   },
   "source": [
    "## Zoom into a time range\n",
    "\n",
    "You can zoom into a time range using tlimit"
   ]
  },
  {
   "cell_type": "code",
   "metadata": {
    "colab": {
     "base_uri": "https://localhost:8080/",
     "height": 624
    },
    "id": "iMwzL3AgYcKS",
    "outputId": "631711b4-8fc0-44cc-a1b4-d1e3164d2859"
   },
   "source": [
    "from pytplot import tlimit\n",
    "\n",
    "#tlimit(['2015-10-16 13:06:20', '2015-10-16 13:06:40'])\n",
    "tplot('dis_enspec_density')"
   ],
   "execution_count": 21,
   "outputs": []
  },
  {
   "cell_type": "markdown",
   "metadata": {
    "id": "ZdwJQoEhqQQc"
   },
   "source": [
    "## Spectra interpolation options\n",
    "\n",
    "You can turn on interpolation with the 'x_interp' and 'y_interp' options"
   ]
  },
  {
   "cell_type": "code",
   "metadata": {
    "colab": {
     "base_uri": "https://localhost:8080/",
     "height": 1000
    },
    "id": "NQXxWYwgqgal",
    "outputId": "ec2faa0f-bafa-4ed7-f504-fd9ac3611dd3"
   },
   "source": [
    "pyspedas.mms.eis(trange=['2015-10-16', '2015-10-17'], datatype='extof')\n",
    "\n",
    "#tlimit(['2015-10-16 00:00:00', '2015-10-17 00:00:00'])\n",
    "tplot('mms1_epd_eis_srvy_l2_extof_proton_flux_omni_spin')"
   ],
   "execution_count": 22,
   "outputs": []
  },
  {
   "cell_type": "code",
   "metadata": {
    "colab": {
     "base_uri": "https://localhost:8080/",
     "height": 624
    },
    "id": "DklzYgaCrfDs",
    "outputId": "3e42daa5-7100-4bc7-b4f9-76513983847a"
   },
   "source": [
    "options('mms1_epd_eis_srvy_l2_extof_proton_flux_omni_spin', 'x_interp', True)\n",
    "options('mms1_epd_eis_srvy_l2_extof_proton_flux_omni_spin', 'y_interp', True)\n",
    "\n",
    "tplot('mms1_epd_eis_srvy_l2_extof_proton_flux_omni_spin')"
   ],
   "execution_count": 23,
   "outputs": []
  },
  {
   "cell_type": "markdown",
   "metadata": {
    "id": "sa7Hfc1GX20y"
   },
   "source": [
    "## Add error bars\n",
    "\n",
    "You can add error bars to a line by specifying the 'dy' field in store_data"
   ]
  },
  {
   "cell_type": "code",
   "metadata": {
    "colab": {
     "base_uri": "https://localhost:8080/",
     "height": 624
    },
    "id": "DfjvRpONX_n0",
    "outputId": "abfc6e2b-4b28-4d12-ad4d-641e2e84b398"
   },
   "source": [
    "from pytplot import get_data, store_data\n",
    "\n",
    "n_data = get_data('mms1_dis_numberdensity_brst')\n",
    "err_data = get_data('mms1_dis_numberdensity_err_brst')\n",
    "\n",
    "# note multiplying the error data by 5 to make sure they're visible\n",
    "store_data('n_with_err', data={'x': n_data.times, 'y': n_data.y, 'dy': err_data.y*5})\n",
    "tplot('n_with_err')"
   ],
   "execution_count": 24,
   "outputs": []
  },
  {
   "cell_type": "markdown",
   "metadata": {
    "id": "6bLNzhPOqoCa"
   },
   "source": [
    "## Add text to figures\n",
    "\n",
    "You can add text to figures by returning the plot objects and manipulating them directly"
   ]
  },
  {
   "cell_type": "code",
   "metadata": {
    "colab": {
     "base_uri": "https://localhost:8080/",
     "height": 641
    },
    "id": "CTGoeqkTq0K7",
    "outputId": "65f5f7bb-d72c-4f70-cc5f-f2936cc4d2e0"
   },
   "source": [
    "from datetime import datetime, timezone\n",
    "import matplotlib\n",
    "fig, axes = tplot('n_with_err', return_plot_objects=True)\n",
    "\n",
    "time = matplotlib.dates.date2num(datetime(2015, 10, 16, 13, 6, 25, tzinfo=timezone.utc))\n",
    "axes.annotate('Your text', (time, 8), fontsize='x-large')"
   ],
   "execution_count": 25,
   "outputs": []
  },
  {
   "cell_type": "markdown",
   "metadata": {
    "id": "XhuzrbNFsucR"
   },
   "source": [
    "You can also specify the location of the text in normal coordinates"
   ]
  },
  {
   "cell_type": "code",
   "metadata": {
    "colab": {
     "base_uri": "https://localhost:8080/",
     "height": 641
    },
    "id": "Msbhc7OJs1lK",
    "outputId": "6f4db45e-ee5b-479b-a416-d0e0476106af"
   },
   "source": [
    "fig, axes = tplot('n_with_err', return_plot_objects=True)\n",
    "\n",
    "axes.annotate('Your text', (0.5, 0.5), xycoords='figure fraction', fontsize='x-large')"
   ],
   "execution_count": 26,
   "outputs": []
  },
  {
   "cell_type": "markdown",
   "metadata": {
    "id": "aTQN0-q_gXrU"
   },
   "source": [
    "## Save the figure\n",
    "\n",
    "You can save the figure using several keywords"
   ]
  },
  {
   "cell_type": "code",
   "metadata": {
    "colab": {
     "base_uri": "https://localhost:8080/",
     "height": 1000
    },
    "id": "lhTnrQ-8f5wz",
    "outputId": "8ec16214-3474-495e-a2e5-b7a7baed6ade"
   },
   "source": [
    "# PNG\n",
    "tplot('mms1_dis_energyspectr_omni_brst', save_png='mms1')\n",
    "\n",
    "# Postscript\n",
    "tplot('mms1_dis_bulkv_gse_brst', save_eps='mms1')\n",
    "\n",
    "# SVG\n",
    "tplot('mms1_dis_numberdensity_brst', save_svg='mms1')\n",
    "\n",
    "# PDF\n",
    "tplot('mms1_des_bulkv_gse_brst', save_pdf='mms1')"
   ],
   "execution_count": 27,
   "outputs": []
  },
  {
   "cell_type": "code",
   "metadata": {
    "id": "ULup_cKMg3ud"
   },
   "source": [
    ""
   ],
   "execution_count": 27,
   "outputs": []
  }
 ]
}
